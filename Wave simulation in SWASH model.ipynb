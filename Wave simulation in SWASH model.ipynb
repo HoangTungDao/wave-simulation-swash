{
 "cells": [
  {
   "cell_type": "markdown",
   "metadata": {
    "id": "QYWedlR0lxMl"
   },
   "source": [
    "# **Table of content**\n",
    "1. [SWASH Model](#section1)\n",
    "2. [Governing Equations](#section2)\n",
    "3. [Model Installation](#section3)\n",
    "4. [Model Operation](#section4)\n",
    "5. [Wave simulations example](#section5)<br>\n",
    "    5.1 [Python Packages](#section5_1)<br>\n",
    "    5.2 [Model Run-script](#section5_2)<br>\n",
    "    5.3 [Outputs](#section5_3)<br>\n",
    "    5.4 [Plots](#section5_4)\n",
    "6. [Remarks](#section6)\n",
    "<br><br>\n",
    "Author: Tung Dao (Dao Hoang Tung), Jan 2022\n",
    "\n"
   ]
  },
  {
   "cell_type": "markdown",
   "metadata": {
    "id": "mMFNCaeUnB9j"
   },
   "source": [
    "# <b id=\"section1\">Introduction</b> <a href=\"#top\">[back to top]</a>\n",
    "---"
   ]
  },
  {
   "cell_type": "markdown",
   "metadata": {
    "id": "fIRf5wB9j4RS"
   },
   "source": [
    "**General information** <br>\n",
    "Numerical models have been applied in many fields, and it is more important to apply them to solve the coastal hydraulic problem thank to the rapid development of computing technology. The numerical technique can be based on the finite element method, finite difference method, boundary element method, finite volume method and Eulerian-Lagrangian method. The time-stepping algorithm can be implicit, semi-implicit, explicit, or characteristic-based. The shape function can be of the first order, second-order, or higher order. The modelling can be simplified into different spatial dimensions, i.e., a one-dimensional (1D) model, two-dimensional (2D) depth-integrated model, 2D lateral-integrated model, 2D layered model and 3D model [(Coastal Wiki)](http://www.coastalwiki.org/wiki/Modelling_coastal_hydrodynamics).<br>\n",
    "The [SWASH model](https://swash.sourceforge.io/) (an acronym of Simulating WAves till SHore) is a non-hydrostatic wave-flow model and is intended to be used for predicting the transformation of dispersive surface waves from offshore to the beach for studying the surf zone and swash zone dynamics, wave propagation and agitation in ports and harbours, rapidly varied shallow water flows typically found in coastal flooding resulting from e.g. dike breaks, tsunamis and flood waves, density-driven flows in coastal waters, and large-scale ocean circulation, tides and storm surges. Many studies have applied this model to solve a coastal problem, including the near zone, sediment transport, and vegetation interaction. The related publication can be found [here](https://swash.sourceforge.io/references/references.htm).<br><br>\n",
    "**Applicability** <br>\n",
    "This model has been applied in wave propagation to the shore and was validated in many studies, for example, wave attenuation and wave breaking processes in the swash-zone [(Smit, Zijlema, and Stelling, 2013)](https://www.sciencedirect.com/science/article/abs/pii/S0378383913000215?via%3Dihub). Furthermore, most studies that consider wave reduction due to vegetation are also taken into account the SWASH model with the vegetation implementation as a good tool.<br>\n",
    "Moreover, the SWASH model is also introduce in **Computational Modelling of Flow and Transport (CIE4340)**. Therefore, this notebook can bring a brief description for users/students to apply the SWASH model in future studies. \n",
    "<br><br>\n",
    "**Publications** <br>\n",
    "Many variants of non-hydrostatic models have been proposed in the literature, exposing excellent features such as frequency dispersion and nonlinear wave effects. However, no advances have been made in assessing these models at an engineering level with observations under realistic nearshore conditions. Over the past 15 years, strong efforts have been made at Delft University to advance the state of wave modelling and flooding simulations for coastal engineering. A few of studies mentions:\n",
    "  * An implementation of the Keller-box scheme for vertical pressure gradients to resolve frequency dispersion accurately and efficiently [(Stelling and Zijlema, 2003)](https://doi.org/10.1002/fld.595).\n",
    "  * Depth-induced wave breaking in a non-hydrostatic, near-shore wave model [(Smit, Zijlema, and Stelling, 2013)](https://www.sciencedirect.com/science/article/abs/pii/S0378383913000215?via%3Dihub).\n",
    "  * SWASH: An operational public domain code for simulating wave fields and rapidly varied flows in coastal waters [(Zijlema, Stelling, and Smit, 2011)](https://doi.org/10.1016/j.coastaleng.2011.05.015)<br><br>\n",
    "\n",
    "Concerning the development of SWASH, the main achievements have been obtained in reliability, robustness, computational efficiency, and user-friendliness. SWASH has been extensively applied and validated independently. To date, over 95 peer-reviewed journal publications and proceedings papers have applied and presented SWASH results on topics such as wave propagation, dispersion, refraction, diffraction, flooding and drying, moving shoreline, hydraulic jumps, cross-shore motions of irregular breaking waves, wave runup, wave overtopping, surf beats, ig dynamics, nearshore circulations, setups induced by breaking waves, wave-current interactions, and wave interactions with floating objects. The list of publications can be found [here](https://swash.sourceforge.io/).\n"
   ]
  },
  {
   "cell_type": "markdown",
   "metadata": {
    "id": "qEs_mqm5oZ47"
   },
   "source": [
    "# <b id=\"section2\">Governing Equations</b> <a href=\"#top\">[back to top]</a>\n",
    "---"
   ]
  },
  {
   "cell_type": "markdown",
   "metadata": {
    "id": "T9pCPXacof5z"
   },
   "source": [
    "According to [Zijlema, Stelling, and Smit (2011)](https://doi.org/10.1016/j.coastaleng.2011.05.015), the general coordinate framework can be used in\n",
    "SWASH is curved orthogonal, and the governing equations, which may in\n",
    "principle be written in terms of these coordinates. However, such a\n",
    "form is unnecessarily complicated for the present purpose of outlining\n",
    "the principles adopted. Instead, the equations are introduced in terms\n",
    "of Cartesian notation. To simplify the statements without introducing\n",
    "a significant loss of generality, attention is focused on the depthaveraged flow in a two-dimensional horizontal physical domain. The\n",
    "extension to the three-dimensional framework is elaborated in\n",
    "[Zijlema and Stelling (2005)](https://doi.org/10.1002/fld.821) and [Zijlema and Stelling (2008)](https://doi.org/10.1016/j.coastaleng.2008.02.020).<br><br>The depth-averaged, non-hydrostatic, free-surface flow can be\n",
    "described by the nonlinear shallow water equations that, in turn, can\n",
    "be derived from the incompressible Navier–Stokes equations that\n",
    "comprise the conservation of mass and momentum. These equations\n",
    "are given by: <br>\n",
    "\n",
    "$\\frac{\\delta u}{\\delta x} + \\frac{\\delta w}{\\delta z} = 0$ (1) <br><br>\n",
    "$\\frac{\\delta \\eta}{\\delta t} + \\frac{\\delta}{\\delta x}\\int^{\\eta}_{-d}{udz} = 0$ (2)<br><br>\n",
    "$\\frac{\\delta w}{\\delta t} + \\frac{\\delta uw}{\\delta x} + \\frac{\\delta ww}{\\delta z} + \\frac{1}{\\rho}\\frac{\\delta (P_{nh})}{\\delta z} + \\frac{\\delta \\tau_{zz}}{\\delta z} + \\frac{\\delta \\tau_{zx}}{\\delta x} = 0$ (3) <br><br>\n",
    "$\\frac{\\delta u}{\\delta t} + \\frac{\\delta uu}{\\delta x} + \\frac{\\delta wu}{\\delta z} + \\frac{1}{\\rho}\\frac{\\delta (P_{nh} + P_{h})}{\\delta x} + \\frac{\\delta \\tau_{xz}}{\\delta z} + \\frac{\\delta \\tau_{xz}}{\\delta x} = 0$ (4) <br><br>\n",
    "where $x$ and $z$ are the horizontal and vertical coordinates, respectively and $z$ is the upward coordinate related to the still water level; $u$ and $w$ are the horizontal and vertical wave orbital velocities, respectively; $\\eta$ is the free surface elevation relative to the still level and $t$ is the time; the presure contribution $P$ is spitted into hydrostatic ($P_h$) and non-hydrostatic ($P_{nh}$) terms. The turbulent stresses $\\tau$ are calculated from a constant turbulent viscosity.<br><br>\n",
    "A bottom stress is applied at the bottom, following a quadratic friction law, as:<br>\n",
    "$\\tau_b = c_f\\frac{u_{mean}^2}{\\eta + d}$ (5) <br><br>\n",
    "where, $u_{mean}$ is the depth-averaged velocity, $c_f$ is the friction coefficient based on Manning's roughness coefficient ([Zijlema et al, 2011](https://doi.org/10.1016/j.coastaleng.2011.05.015)):<br>\n",
    "$c_f = \\frac{n^2g}{d^{1/3}}$ (6)<br><br>\n",
    "The turbulent stresses are given by:<br>\n",
    "$\\tau_{xx} = 2\\nu \\frac{\\delta u}{\\delta x};$\n",
    "$\\tau_{xy} = \\tau_{yx} = \\nu (\\frac{\\delta w}{\\delta x} + \\frac{\\delta u}{\\delta y});$\n",
    "$\\tau_{yy} = 2\\nu\\frac{\\delta w}{\\delta y}$ (7)"
   ]
  },
  {
   "cell_type": "markdown",
   "metadata": {
    "id": "WHbcIxLuJZ3X"
   },
   "source": [
    "# <b id=\"section3\">Model Intallation</b> <a href=\"#top\">[back to top]</a>\n",
    "---"
   ]
  },
  {
   "cell_type": "markdown",
   "metadata": {
    "id": "gIeVWdjMyrGh"
   },
   "source": [
    "1. The latest version of the SWASH model is 7.01 and can be found [here](http://swash.sourceforge.net/). <br>\n",
    "2. It is recommended to consult the [User Manual](http://swash.sourceforge.net/download/zip/swashuse.pdf) before running any test cases. <br>\n",
    "3. Test cases can be found [here](http://swash.sourceforge.net/).\n"
   ]
  },
  {
   "cell_type": "markdown",
   "metadata": {
    "id": "vJa_HMRAPLR2"
   },
   "source": [
    "# <b id=\"section4\">Model Operation</b> <a href=\"#top\">[back to top]</a>\n",
    "---"
   ]
  },
  {
   "cell_type": "markdown",
   "metadata": {
    "id": "6QmvfSkwPKkf"
   },
   "source": [
    "**Run the model**\n",
    "\n",
    "After installation, SWASH model can be operated by window DOS commant promt. The command input file can be edited by using an ASCII editor, for example MS Notepad or [Notepad++](https://notepad-plus-plus.org/downloads/).\n",
    "\n",
    "When the command file is ready, the model can run. Note that the command file must be save as 'filename.sws'. In DOS promt, users need to locate the directory that the command file located, and users type 'swashrun filename.sws' to run the model.\n",
    "\n",
    "*Some tips for using DOS promt:*\n",
    "\n",
    "```\n",
    " * cd       - change directory (or folder)\n",
    " * mkdir    - creat a new directory\n",
    " * rmdir    - remove an exsiting directory\n",
    " * dir      - list file and directories in curent directory\n",
    " * copy     - copy file(s) to other location\n",
    " * del      - delete file(s)\n",
    " * ren      - rename file or directory\n",
    " * type     - to check the content of a file\n",
    "\n",
    " * swashrun - run the model\n",
    " ```"
   ]
  },
  {
   "cell_type": "markdown",
   "metadata": {
    "id": "Cn0PG88nSMMO"
   },
   "source": [
    "# <b id=\"section5\">Wave simulation example</b> <a href=\"#top\">[back to top]</a>\n",
    "---"
   ]
  },
  {
   "cell_type": "markdown",
   "metadata": {
    "id": "pNJ87xkfJKen"
   },
   "source": [
    "## <b id=\"section5_1\">Python Packages</b> <a href=\"#top\">[back to top]</a>\n",
    "---"
   ]
  },
  {
   "cell_type": "code",
   "execution_count": 21,
   "metadata": {
    "executionInfo": {
     "elapsed": 292,
     "status": "ok",
     "timestamp": 1640708065088,
     "user": {
      "displayName": "Tung Dao",
      "photoUrl": "https://lh3.googleusercontent.com/a-/AOh14GgC8kK1qYyrWWq_wvbSEj2g_CnLIThzY8W0687QRUQ=s64",
      "userId": "18076213606347254723"
     },
     "user_tz": -60
    },
    "id": "yVyfkdDkzeFy"
   },
   "outputs": [],
   "source": [
    "import numpy as np\n",
    "import matplotlib.pyplot as plt\n",
    "%matplotlib inline\n",
    "from IPython.display import HTML, display\n",
    "from tabulate import tabulate\n",
    "plt.rcParams.update({'font.size':17}) # Use for all plots"
   ]
  },
  {
   "cell_type": "markdown",
   "metadata": {
    "id": "kvcY7WWBlxMv"
   },
   "source": [
    "**Import calculation packages** (Use for Colabs)"
   ]
  },
  {
   "cell_type": "code",
   "execution_count": 3,
   "metadata": {
    "colab": {
     "base_uri": "https://localhost:8080/"
    },
    "executionInfo": {
     "elapsed": 255,
     "status": "ok",
     "timestamp": 1640702262119,
     "user": {
      "displayName": "Tung Dao",
      "photoUrl": "https://lh3.googleusercontent.com/a-/AOh14GgC8kK1qYyrWWq_wvbSEj2g_CnLIThzY8W0687QRUQ=s64",
      "userId": "18076213606347254723"
     },
     "user_tz": -60
    },
    "id": "tE4eHow1lxMv",
    "outputId": "0ad8dbf5-ceda-4315-b3b8-c6bdd11aab8d"
   },
   "outputs": [
    {
     "name": "stdout",
     "output_type": "stream",
     "text": [
      "/content\n",
      "fatal: destination path 'notebook_packages' already exists and is not an empty directory.\n"
     ]
    }
   ],
   "source": [
    "# Getting package from Github / Make a clone inside Colab\n",
    "%cd /content/\n",
    "!git clone https://github.com/HoangTungDao/notebook_packages.git"
   ]
  },
  {
   "cell_type": "code",
   "execution_count": 2,
   "metadata": {
    "colab": {
     "base_uri": "https://localhost:8080/"
    },
    "executionInfo": {
     "elapsed": 7,
     "status": "ok",
     "timestamp": 1640702314986,
     "user": {
      "displayName": "Tung Dao",
      "photoUrl": "https://lh3.googleusercontent.com/a-/AOh14GgC8kK1qYyrWWq_wvbSEj2g_CnLIThzY8W0687QRUQ=s64",
      "userId": "18076213606347254723"
     },
     "user_tz": -60
    },
    "id": "NegAIl5slxMw",
    "outputId": "cc0d0c29-0858-4569-fbae-9909b3102862"
   },
   "outputs": [
    {
     "name": "stdout",
     "output_type": "stream",
     "text": [
      "/content/notebook_packages\n"
     ]
    }
   ],
   "source": [
    "# It takes a few seconds for Colabs download the git clone.\n",
    "%cd /content/notebook_packages/\n",
    "!python Py_1DProfile.py\n",
    "from Py_1DProfile import check_T_for_resolution\n",
    "from Py_1DProfile import create_xp_zp_sws"
   ]
  },
  {
   "cell_type": "markdown",
   "metadata": {
    "id": "1UwQYXM0T0zi"
   },
   "source": [
    "## <b id=\"section5_2\">Model Run-script</b> <a href=\"#top\">[back to top]</a>\n",
    "---"
   ]
  },
  {
   "cell_type": "markdown",
   "metadata": {
    "id": "uVUhOpeRBDWy"
   },
   "source": [
    "Before practicing, it is recommendedn that users should read the User Manual and examples on the official website of SWASH. Also, the brief guideline for installation, interpretation of commnand files and bathymetry for 1D simulation can be found [here](https://colab.research.google.com/drive/1M7YrSOv6xSdRSPI2K2ttvPI689O7bMaU#scrollTo=yruFextFdFiC).\n",
    "\n",
    "In this practice, users run 1D test of wave propagation to the shore from the water depth of 10 m. The forshore slope is 1:10, uniform and rectangular. Still water level is 0.0 m. The wave conditions are regular with **$H_{rms}$ = 1.0** m, and **$T$ = 5.5** s. And successfuly create outputs as:\n",
    " * Plot root-mean-squre wave height (Hrms) at every location along the profile.\n",
    " * Hrms at **8.0** m, **5.0** m, and **1.0** m water depth. \n",
    " * Plot water surface elevation at the above locations."
   ]
  },
  {
   "cell_type": "markdown",
   "metadata": {
    "id": "ixIPIRmGVlyN"
   },
   "source": [
    "### Table of variables"
   ]
  },
  {
   "cell_type": "markdown",
   "metadata": {
    "id": "gSrkqRYaal5O"
   },
   "source": [
    "No. | Parameter interpretation                  | Use in code    | Units (-) | Examples | --- | No. | Parameter interpretation                  | Use in code | Units (-) | Examples\n",
    "--- | ----------------------------------------- | -------------- | ----------| :------: | :-: | --- | ----------------------------------------- | ----------- | --------- | --------\n",
    "1   | Gravitational accleration ($g$)           | grav           | m$^2$/s   | -        | --- | 14  | Water depth                               | wdepth      | m         | -        \n",
    "2   | Time steps                                | timestep       | s         | -        | --- | 15  | Water depth at deep water                 | wdepth0     | m         | -        \n",
    "3   | Wave frequency ($f$)                      | freq           | Hz        | -        | --- | 16  | Wavelength                                | wlength     | m         | -        \n",
    "4   | Maximum frequency ($f_{min}$)             | freq_max       | Hz        | -        | --- | 17  | Wavelength at deep water                  | wlenght0    | m         | -        \n",
    "5   | Minimum frequency ($f_{min}$)             | freq_min       | Hz        | -        | --- | 18  | Water elevation ($\\eta$)                  | eta         | m         | -\n",
    "6   | Peak wave frequency ($f_p$)               | freq_peak      | Hz        | -        | --- | 19  | Measurement duration                      | mdur        | s or mins | -\n",
    "7   | Sampling frequency                        | freq_sample    | Hz        | -        | --- | 20  | model resolution                          | dx          | m         | -\n",
    "8   | Peak Wave period ( $T_p$)                 | wperiod        | s         | -        | --- | 21  | SWASH                                     | sws         | -         | -\n",
    "9   | Spectral density ($E$)                    | spect_dens     | m$^2$/Hz  | -        | --- | 22  | File name                                 | fname       | -         | -\n",
    "10  | Maximum spectral density ($E_{max}$)      | max_spect_dens | m$^2$/Hz  | -        | --- | 23  | block length                              | ntff        | -         | -\n",
    "11  | Wave height ($H$)                         | wheight        | m         | -        | --- | 24  | Uniform resource locators                 | url         | -         | fname_url  \n",
    "12  | Significant Wave height ($H_s$)           | sig_wheight    | m         | -        | --- | 25  | Profile                                   | p           | -         | xp; zp\n",
    "13  | Root-mean-squares Wave height ($H_{rms}$) | rms_wheight    | m         | -        | --- | "
   ]
  },
  {
   "cell_type": "markdown",
   "metadata": {
    "id": "b9qfXMIwVM2F"
   },
   "source": [
    "### Initial parameters"
   ]
  },
  {
   "cell_type": "code",
   "execution_count": 3,
   "metadata": {
    "executionInfo": {
     "elapsed": 200,
     "status": "ok",
     "timestamp": 1640702319231,
     "user": {
      "displayName": "Tung Dao",
      "photoUrl": "https://lh3.googleusercontent.com/a-/AOh14GgC8kK1qYyrWWq_wvbSEj2g_CnLIThzY8W0687QRUQ=s64",
      "userId": "18076213606347254723"
     },
     "user_tz": -60
    },
    "id": "xUbbCH28riif"
   },
   "outputs": [],
   "source": [
    "wheight = 1.5\n",
    "wperiod = 5.5, 3.5\n",
    "wdepth0 = 10\n",
    "bot_slope = 1/10, 1/30\n",
    "length_slope = 100, 10\n",
    "outp_depth = 8, 5, 1"
   ]
  },
  {
   "cell_type": "markdown",
   "metadata": {
    "id": "2CEBRSWRueE9"
   },
   "source": [
    "### Calculate model resolution"
   ]
  },
  {
   "cell_type": "markdown",
   "metadata": {
    "id": "PGPrbBE8HOdq"
   },
   "source": [
    "Firstly, all the required files to successfully run the model with above parameters are the input command, and the bathymetry. But first, it is needed to calculate several constant variables.\n",
    "\n",
    "Hypothesizing that wave will travel to the shallow zone, where d/L $\\approx$ 1/20.\n",
    "As moving to the shore, the resolution (dx) of the model should be samller than at the deep water. However, there is impossible to have more than two resolutions in SWASH, therefore, it is recommended to calculate\n",
    "dx at the shallow zone, and apply to the whole domain. The dx is normally between L/50 to L/100 where L is wavelength in the shallow zone. \n",
    "\n",
    "Note that smaller resolution will increase the real computation time. So choose wisely!"
   ]
  },
  {
   "cell_type": "code",
   "execution_count": 4,
   "metadata": {
    "colab": {
     "base_uri": "https://localhost:8080/"
    },
    "executionInfo": {
     "elapsed": 223,
     "status": "ok",
     "timestamp": 1640702321150,
     "user": {
      "displayName": "Tung Dao",
      "photoUrl": "https://lh3.googleusercontent.com/a-/AOh14GgC8kK1qYyrWWq_wvbSEj2g_CnLIThzY8W0687QRUQ=s64",
      "userId": "18076213606347254723"
     },
     "user_tz": -60
    },
    "id": "UziAsz10rUac",
    "outputId": "b2516aa6-e113-4d63-e926-14410d4be69c"
   },
   "outputs": [
    {
     "name": "stdout",
     "output_type": "stream",
     "text": [
      "\n",
      "At boundary:            \n",
      " Initial water depth is 10 m.            \n",
      " Initial wave height is 1.5 m.            \n",
      " Minimum wave period is 3.5 s.\n",
      "Warning 1:            \n",
      " Deep water zone.            \n",
      " Resolution (dx) is too large.             \n",
      " Reducing water depth by half;             \n",
      " Calculate again wavelength\n",
      "Result: L = 18.00 m, and dx is 0.18 m.\n"
     ]
    }
   ],
   "source": [
    "# Calculate resolution\n",
    "dx, wlength0, wlength = check_T_for_resolution(wheight, wperiod, wdepth0)"
   ]
  },
  {
   "cell_type": "code",
   "execution_count": 5,
   "metadata": {
    "colab": {
     "base_uri": "https://localhost:8080/",
     "height": 389
    },
    "executionInfo": {
     "elapsed": 585,
     "status": "ok",
     "timestamp": 1640702323835,
     "user": {
      "displayName": "Tung Dao",
      "photoUrl": "https://lh3.googleusercontent.com/a-/AOh14GgC8kK1qYyrWWq_wvbSEj2g_CnLIThzY8W0687QRUQ=s64",
      "userId": "18076213606347254723"
     },
     "user_tz": -60
    },
    "id": "wat_wgAubzJV",
    "outputId": "fec59166-2878-4b23-c8f0-dcca54a7b4d2"
   },
   "outputs": [
    {
     "name": "stdout",
     "output_type": "stream",
     "text": [
      "\n",
      "Number of mesh is 613          \n",
      "Total length of profile is 110.0 m.\n"
     ]
    },
    {
     "data": {
      "image/png": "[encoded data removed]",
      "text/plain": [
       "<Figure size 1080x360 with 1 Axes>"
      ]
     },
     "metadata": {
      "needs_background": "light"
     },
     "output_type": "display_data"
    }
   ],
   "source": [
    "# Create bottom level data\n",
    "xp_sws, zp_sws = create_xp_zp_sws(dx, wdepth0, bot_slope, length_slope)"
   ]
  },
  {
   "cell_type": "markdown",
   "metadata": {
    "id": "Rd-JyjbguvSQ"
   },
   "source": [
    "### Calculate and plot output points"
   ]
  },
  {
   "cell_type": "code",
   "execution_count": 6,
   "metadata": {
    "colab": {
     "base_uri": "https://localhost:8080/",
     "height": 444
    },
    "executionInfo": {
     "elapsed": 460,
     "status": "ok",
     "timestamp": 1640702326651,
     "user": {
      "displayName": "Tung Dao",
      "photoUrl": "https://lh3.googleusercontent.com/a-/AOh14GgC8kK1qYyrWWq_wvbSEj2g_CnLIThzY8W0687QRUQ=s64",
      "userId": "18076213606347254723"
     },
     "user_tz": -60
    },
    "id": "BHJVl4Iu1Wi3",
    "outputId": "2ea4fe09-51af-42f1-f107-407b1fd80c64"
   },
   "outputs": [
    {
     "name": "stdout",
     "output_type": "stream",
     "text": [
      "Output points P1 at depth 8 m has (x, y) = (20.0, 0.0)\n",
      "\n",
      "Output points P2 at depth 5 m has (x, y) = (50.0, 0.0)\n",
      "\n",
      "Output points P3 at depth 1 m has (x, y) = (90.0, 0.0)\n",
      "\n"
     ]
    },
    {
     "data": {
      "image/png": "[encoded data removed]",
      "text/plain": [
       "<Figure size 1080x360 with 1 Axes>"
      ]
     },
     "metadata": {
      "needs_background": "light"
     },
     "output_type": "display_data"
    }
   ],
   "source": [
    "total_length = np.sum(length_slope)\n",
    "# Create output points\n",
    "z_outp = np.array(outp_depth)\n",
    "numb_outp = len(z_outp)\n",
    "point_numb = np.arange(1, numb_outp+1, 1)\n",
    "# Only consider the profile under still water level\n",
    "x_outp = z_outp / bot_slope[0] - length_slope[0]\n",
    "y_outp = np.zeros(numb_outp)\n",
    "# Print output information\n",
    "for i in range(numb_outp):\n",
    "    print(f'Output points P{point_numb[i]} at depth '\n",
    "          f'{outp_depth[i]} m has (x, y) = '\n",
    "          f'({-x_outp[i]}, {y_outp[i]})\\n')\n",
    "# ------------------------------------------------------------------------\n",
    "# PLot profile with output points\n",
    "plt.figure(figsize=(15, 5))\n",
    "plt.plot(xp_sws, zp_sws * -1, 'k-')\n",
    "plt.plot([xp_sws[0], xp_sws[-1]], [0, 0], 'b--')\n",
    "plt.plot(-x_outp, y_outp, 'kd')\n",
    "for i in range(numb_outp):\n",
    "    plt.text(-x_outp[i], y_outp[i] + 0.5,\n",
    "             f'P{point_numb[i]}'\n",
    "             f' ({-x_outp[i]}, {y_outp[i]})')\n",
    "plt.xlabel('x-axis (m)')\n",
    "plt.ylabel('z-axis (m)')\n",
    "plt.xlim(xp_sws[0], xp_sws[-1])\n",
    "plt.ylim(-zp_sws[0], -zp_sws[-1] + 2)\n",
    "plt.show()"
   ]
  },
  {
   "cell_type": "markdown",
   "metadata": {
    "id": "dxGw7XjQu_q4"
   },
   "source": [
    "### Extract bottom level"
   ]
  },
  {
   "cell_type": "code",
   "execution_count": 13,
   "metadata": {
    "colab": {
     "base_uri": "https://localhost:8080/"
    },
    "executionInfo": {
     "elapsed": 444,
     "status": "ok",
     "timestamp": 1640706822632,
     "user": {
      "displayName": "Tung Dao",
      "photoUrl": "https://lh3.googleusercontent.com/a-/AOh14GgC8kK1qYyrWWq_wvbSEj2g_CnLIThzY8W0687QRUQ=s64",
      "userId": "18076213606347254723"
     },
     "user_tz": -60
    },
    "id": "44gIHVfBub2j",
    "outputId": "871f3c5b-1f94-4df9-f87a-d3c2890ca43f"
   },
   "outputs": [
    {
     "name": "stdout",
     "output_type": "stream",
     "text": [
      "/content\n",
      "The bottom level and command file have been saved as: exercise_02.bot \n",
      "Please find those files at local Colab directory: /content/\n"
     ]
    }
   ],
   "source": [
    "# Save bottom level\n",
    "fname = 'exercise'\n",
    "fnumb = '02'\n",
    "file_bot = f'{fname}_{fnumb}.bot'\n",
    "np.savetxt(file_bot, zp_sws, delimiter=',')\n",
    "%cd /content\n",
    "print(f'The bottom level and command file have been saved as: {file_bot} \\\n",
    "\\nPlease find those files at local Colab directory: /content/')"
   ]
  },
  {
   "cell_type": "markdown",
   "metadata": {
    "id": "6SAmGtXWwHNi"
   },
   "source": [
    "### Command script"
   ]
  },
  {
   "cell_type": "markdown",
   "metadata": {
    "id": "CxIqlo48DWPd"
   },
   "source": [
    "Below is the command lines created based on the initial wave parameter in this exercise. This is the screenshot of the file that need to have to run the model properly. <br><br>\n",
    "\n",
    "Users can also check the command lines by using the code ``` print(command_lines)```. All command lines will be appeared below as same as the below screenshoot. \n",
    "\n",
    "\n",
    "<img src=\"https://raw.githubusercontent.com/HoangTungDao/Wave-fence-SWASH-simulation/main/exercise_runfile.jpeg\">"
   ]
  },
  {
   "cell_type": "markdown",
   "metadata": {
    "id": "gsuRdkGxwTcJ"
   },
   "source": [
    "### Operate model"
   ]
  },
  {
   "cell_type": "markdown",
   "metadata": {
    "id": "CzqIxqNokp0v"
   },
   "source": [
    "Some tips during running the model. In the figure below, users can see:\n",
    "  * All files, the command files, '**exercise_02.sws**', and the bottom level, '**exercise_02.bot**', are needed to be in the same directory.\n",
    "  * It is recommended to create a folder in '***C:\\***' drive, such as \"**swash_folder**\", and put all files in that folder.\n",
    "  * Twhen the DOS promt pop-up, the directory in that window is '***C:\\Users\\Username***'. Users must turn back to '***C:\\***' directory by using \"**cd..**\" two times to get to directory '***C:\\***'. Then use '**cd swash_folder**' to get to the '***C:\\swash_folder***' directory.\n",
    "  * From this directory, users can check if the files are there by using command '**dir**' to list all files and other directories. Files should be appeared on the promt window.\n",
    "  * If the users put the '**swash_folder**' in another drive, such as '***D:\\***', users simply use command '**D:**' to get to the '***D:\\***' directory. Then, all above steps can be repeated to get to the **swash_folder**.\n",
    "  * To run the model, users must use the command '**swashrun exercise_01.sws**'. Note that the command file must have file type as '***.sws***'.\n",
    "\n",
    "Users might have some problem when running the model. Do not panic. Go to the **swash_folder**, find the file name **exercise_02.prt**. The model will print all and erros if there is any problem during the run. If there is nothing wrong with the command lines, the model should run smoothly.\n",
    "\n",
    "**Output notes**\n",
    "\n",
    "The outputs of SWASH model are defined in the command lines. In the exercise:\n",
    "  * the '**exercise_fr.tbw**' file has results of x-axis, significant wave heights, root-mean-square wave heights, and set-up;\n",
    "  * the '**exercise_Pi.tbw**' files, where \"i\" is the number of output points from 0 to 2, have results of record time, and water level. Their records start at 5 minutes with the dt = 0.01 s, because the model starts as cold start with the command 'initial zero'. The locations of the points are at x = 20, 50 and 90 m according to the water depth 8.0, 5.0, and 1.0 m. \n",
    "\n",
    "The required calculations and plots from the exercise are:\n",
    "  * Wave height at 8 m, 5 m and 1 m water depth.\n",
    "  * Wave heights, wavelengths, and wave periods at the same locations from elevation results.\n",
    "\n",
    "\n",
    "<img src=\"https://raw.githubusercontent.com/HoangTungDao/Wave-fence-SWASH-simulation/main/exercise_outfiles.jpeg\">\n",
    "\n",
    "---"
   ]
  },
  {
   "cell_type": "markdown",
   "metadata": {
    "id": "uSBM15DqT7WH"
   },
   "source": [
    "## <b id=\"section5_3\">Outputs</b> <a href=\"#top\">[back to top]</a>\n",
    "---"
   ]
  },
  {
   "cell_type": "code",
   "execution_count": 14,
   "metadata": {
    "colab": {
     "base_uri": "https://localhost:8080/"
    },
    "executionInfo": {
     "elapsed": 1861,
     "status": "ok",
     "timestamp": 1640707148838,
     "user": {
      "displayName": "Tung Dao",
      "photoUrl": "https://lh3.googleusercontent.com/a-/AOh14GgC8kK1qYyrWWq_wvbSEj2g_CnLIThzY8W0687QRUQ=s64",
      "userId": "18076213606347254723"
     },
     "user_tz": -60
    },
    "id": "3biHOse3wnyx",
    "outputId": "1a04ebdb-72df-408a-dd8d-e5590fc02db6"
   },
   "outputs": [
    {
     "name": "stdout",
     "output_type": "stream",
     "text": [
      "/content\n",
      "Cloning into 'Wave-fence-SWASH-simulation'...\n",
      "remote: Enumerating objects: 61, done.\u001b[K\n",
      "remote: Counting objects: 100% (61/61), done.\u001b[K\n",
      "remote: Compressing objects: 100% (59/59), done.\u001b[K\n",
      "remote: Total 61 (delta 20), reused 0 (delta 0), pack-reused 0\u001b[K\n",
      "Unpacking objects: 100% (61/61), done.\n"
     ]
    }
   ],
   "source": [
    "# Getting package from Github / Make a clone inside Colab\n",
    "%cd /content/\n",
    "!git clone https://github.com/HoangTungDao/Wave-fence-SWASH-simulation.git"
   ]
  },
  {
   "cell_type": "code",
   "execution_count": 15,
   "metadata": {
    "colab": {
     "base_uri": "https://localhost:8080/"
    },
    "executionInfo": {
     "elapsed": 1990,
     "status": "ok",
     "timestamp": 1640707306422,
     "user": {
      "displayName": "Tung Dao",
      "photoUrl": "https://lh3.googleusercontent.com/a-/AOh14GgC8kK1qYyrWWq_wvbSEj2g_CnLIThzY8W0687QRUQ=s64",
      "userId": "18076213606347254723"
     },
     "user_tz": -60
    },
    "id": "ADMjxmhdmNFm",
    "outputId": "df14727e-4745-4fa7-d5ae-33284d9dcfe1"
   },
   "outputs": [
    {
     "name": "stdout",
     "output_type": "stream",
     "text": [
      "/content/Wave-fence-SWASH-simulation/Results\n",
      "exercise_fr.tbw  exercise_P1.tbw  exercise_P2.tbw  exercise_P3.tbw\n"
     ]
    }
   ],
   "source": [
    "# Again, it takes a few seconds for Colabs download the git clone\n",
    "%cd /content/Wave-fence-SWASH-simulation/Results\n",
    "# List all files in the mentioned directory\n",
    "%ls /content/Wave-fence-SWASH-simulation/Results\n",
    "# Loading data from the folder\n",
    "headlines = 7\n",
    "datafr_sws = np.loadtxt('exercise_fr.tbw', skiprows=headlines)\n",
    "datap1_sws = np.loadtxt('exercise_P1.tbw', skiprows=headlines)\n",
    "datap2_sws = np.loadtxt('exercise_P2.tbw', skiprows=headlines)\n",
    "datap3_sws = np.loadtxt('exercise_P3.tbw', skiprows=headlines)"
   ]
  },
  {
   "cell_type": "markdown",
   "metadata": {
    "id": "XYQ9fy1tT7ra"
   },
   "source": [
    "## <b id=\"section5_4\">Results & Plots</b> <a href=\"#top\">[back to top]</a>\n",
    "---\n",
    "\n",
    " * Plot root-mean-squre wave height (Hrms) at every location along the profile.\n",
    " * Hrms at **8.0** m, **5.0** m, and **1.0** m water depth. \n",
    " * Plot water surface elevation at the above locations."
   ]
  },
  {
   "cell_type": "markdown",
   "metadata": {
    "id": "ErVTeJYqyE6a"
   },
   "source": [
    "**Call variables from data**"
   ]
  },
  {
   "cell_type": "markdown",
   "metadata": {
    "id": "_xKTl1BCyVHJ"
   },
   "source": [
    "No.  | Variables name               | Unit | Code   | Sources\n",
    ":---:| ---------------------------- | ---- | ------ | -------\n",
    "1    | Time series                  | s    | times  | data1_sws \n",
    "2    | Elevation at z = 8 m         | m    | eta_P1 | data1_sws\n",
    "2    | Elevation at z = 5 m         | m    | eta_P2 | data2_sws\n",
    "2    | Elevation at z = 1 m         | m    | eta_P3 | data3_sws\n",
    "3    | wave set-up                  | m    | Setup  | datafr_sws\n",
    "4    | Root-mean-square wave height | m    | Hrms   | datafr_sws\n",
    "5    | Cross-shore axis             | m    | x_sws  | datafr_sws"
   ]
  },
  {
   "cell_type": "code",
   "execution_count": 18,
   "metadata": {
    "executionInfo": {
     "elapsed": 193,
     "status": "ok",
     "timestamp": 1640708043686,
     "user": {
      "displayName": "Tung Dao",
      "photoUrl": "https://lh3.googleusercontent.com/a-/AOh14GgC8kK1qYyrWWq_wvbSEj2g_CnLIThzY8W0687QRUQ=s64",
      "userId": "18076213606347254723"
     },
     "user_tz": -60
    },
    "id": "SAXzX3noce3Q"
   },
   "outputs": [],
   "source": [
    "# Times series data\n",
    "times = datap1_sws[:,0]\n",
    "eta_p1 = datap1_sws[:,1]\n",
    "eta_p2 = datap2_sws[:,1]\n",
    "eta_p3 = datap3_sws[:,1]\n",
    "eta = np.array([eta_p1, eta_p2, eta_p3])\n",
    "# From frame data\n",
    "x_sws = datafr_sws[:,0]\n",
    "Hrms_all = np.round(datafr_sws[:,1], 2)\n",
    "Hrms_all[Hrms_all == -9] = 0            # Update Hrms\n",
    "Setup = np.round(datafr_sws[:,2],4)\n",
    "Setup[Setup == -9] = 0                  # Update Set up values"
   ]
  },
  {
   "cell_type": "markdown",
   "metadata": {
    "id": "fG01Kcva0oEq"
   },
   "source": [
    "**Plot results**"
   ]
  },
  {
   "cell_type": "code",
   "execution_count": 28,
   "metadata": {
    "colab": {
     "base_uri": "https://localhost:8080/",
     "height": 629
    },
    "executionInfo": {
     "elapsed": 1858,
     "status": "ok",
     "timestamp": 1640708701255,
     "user": {
      "displayName": "Tung Dao",
      "photoUrl": "https://lh3.googleusercontent.com/a-/AOh14GgC8kK1qYyrWWq_wvbSEj2g_CnLIThzY8W0687QRUQ=s64",
      "userId": "18076213606347254723"
     },
     "user_tz": -60
    },
    "id": "N9W3EAkSKaHp",
    "outputId": "ba1f4a64-7bee-4327-997a-3f32ab594e9e"
   },
   "outputs": [
    {
     "name": "stdout",
     "output_type": "stream",
     "text": [
      "The P1 point at depth = 8 m has Hrms = 0.93 m & Set-up = 0.0454 m.\n",
      "The P2 point at depth = 5 m has Hrms = 1.09 m & Set-up = 0.0404 m.\n",
      "The P3 point at depth = 1 m has Hrms = 0.82 m & Set-up = 0.0399 m.\n"
     ]
    },
    {
     "data": {
      "image/png": "[encoded data removed]",
      "text/plain": [
       "<Figure size 864x648 with 3 Axes>"
      ]
     },
     "metadata": {
      "needs_background": "light"
     },
     "output_type": "display_data"
    }
   ],
   "source": [
    "# print results\n",
    "x_id = []\n",
    "for i in range(numb_outp):\n",
    "  # Wave heights at locations 20, 50, and 90 m.\n",
    "  x_id_temp = np.where(x_sws == -x_outp[i])\n",
    "  x_id = np.append(x_id, x_id_temp)\n",
    "  x_id = x_id.astype(int)\n",
    "  Hrms_outp = Hrms_all[x_id]\n",
    "  Setup_outp = Setup[x_id]\n",
    "  # Answers\n",
    "  point_name = 'P'\n",
    "  print(f\"The {point_name}{point_numb[i]} point at depth = {outp_depth[i]} m \\\n",
    "has Hrms = {Hrms_outp[i]} m & Set-up = {Setup_outp[i]} m.\")\n",
    "\n",
    "# Plotting wave height along the profile\n",
    "axis_Hrms = ([xp_sws[0], xp_sws[-1], 0, 1.5])\n",
    "axis_Setup = ([xp_sws[0], xp_sws[-1], -0.05, 0.2])\n",
    "axis_Profile = ([xp_sws[0], xp_sws[-1], -zp_sws[0], 3])\n",
    "fig, ax = plt.subplots(3,1, figsize = (12, 9), sharex=True)\n",
    "ax[0].plot(x_sws,Hrms_all, '-r')\n",
    "ax[0].set_ylabel('Hrms [m]')\n",
    "ax[0].axis(axis_Hrms)\n",
    "ax[1].plot(x_sws,Setup, '-b')\n",
    "ax[1].set_ylabel('Set-up [m]')\n",
    "ax[1].axis(axis_Setup)\n",
    "ax[2].plot(xp_sws, -zp_sws, 'k-')\n",
    "ax[2].plot([xp_sws[0], xp_sws[-1]], [0, 0], 'b--')\n",
    "ax[2].set_xlabel('x-axis [m]')\n",
    "ax[2].set_ylabel('z-axis [m]')\n",
    "ax[2].axis(axis_Profile)\n",
    "plt.show()"
   ]
  },
  {
   "cell_type": "code",
   "execution_count": 32,
   "metadata": {
    "colab": {
     "base_uri": "https://localhost:8080/",
     "height": 567
    },
    "executionInfo": {
     "elapsed": 1013,
     "status": "ok",
     "timestamp": 1640708731005,
     "user": {
      "displayName": "Tung Dao",
      "photoUrl": "https://lh3.googleusercontent.com/a-/AOh14GgC8kK1qYyrWWq_wvbSEj2g_CnLIThzY8W0687QRUQ=s64",
      "userId": "18076213606347254723"
     },
     "user_tz": -60
    },
    "id": "hdpaIpCvcAQg",
    "outputId": "30a5618b-5fed-45f7-f499-8fdc25e3a917"
   },
   "outputs": [
    {
     "data": {
      "image/png": "[encoded data removed]",
      "text/plain": [
       "<Figure size 864x648 with 3 Axes>"
      ]
     },
     "metadata": {
      "needs_background": "light"
     },
     "output_type": "display_data"
    }
   ],
   "source": [
    "# Plotting elevation\n",
    "char = ('r-', 'b-', 'k-')\n",
    "initial_time = 270\n",
    "plt.figure(figsize= (12, 9))\n",
    "for i in range(numb_outp):\n",
    "  plt.subplot(3,1,i+1)\n",
    "  plt.plot(times, eta[i,:], char[i])\n",
    "  plt.xlim([np.mean(times), np.mean(times+initial_time)])\n",
    "  plt.ylim([-1.5, 1.5])\n",
    "  plt.ylabel('$\\eta$ (m)')\n",
    "  plt.text(3860, -0.95,\n",
    "      f\"{point_name}{point_numb[i]} ({-x_outp[i]}, {y_outp[i]})\")\n",
    "plt.xlabel('Time (s)')\n",
    "plt.show()"
   ]
  },
  {
   "cell_type": "markdown",
   "metadata": {
    "id": "7dgFHtAE1v3Z"
   },
   "source": [
    "# <b id=\"section6\">Remarks</b> <a href=\"#top\">[back to top]</a>\n",
    "---"
   ]
  },
  {
   "cell_type": "markdown",
   "metadata": {
    "id": "wk15pLSq13eI"
   },
   "source": [
    "This notebook firstly introduce several information of the SWASH model including governing equations, and how to install and run the model. It also show a simple simulation of wave propagation from deep water to shallow water in the SWASH model. The input parameters at the boundary include the initial wave height of 1.5 m, water depth of 10 m and wave period of 5.5 seconds.\n",
    "After getting through the results, users should be able to install the model and simulate another example based on their own design."
   ]
  }
 ],
 "metadata": {
  "colab": {
   "authorship_tag": "ABX9TyOIkgfY4pScz3+mx8Vp5+vq",
   "collapsed_sections": [
    "ixIPIRmGVlyN",
    "2CEBRSWRueE9",
    "Rd-JyjbguvSQ",
    "dxGw7XjQu_q4",
    "gsuRdkGxwTcJ"
   ],
   "name": "Wave simulation in SWASH model.ipynb",
   "provenance": [],
   "toc_visible": true
  },
  "kernelspec": {
   "display_name": "Python 3 (ipykernel)",
   "language": "python",
   "name": "python3"
  },
  "language_info": {
   "codemirror_mode": {
    "name": "ipython",
    "version": 3
   },
   "file_extension": ".py",
   "mimetype": "text/x-python",
   "name": "python",
   "nbconvert_exporter": "python",
   "pygments_lexer": "ipython3",
   "version": "3.9.7"
  }
 },
 "nbformat": 4,
 "nbformat_minor": 4
}
